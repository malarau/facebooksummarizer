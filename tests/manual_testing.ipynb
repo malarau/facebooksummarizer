{
 "cells": [
  {
   "cell_type": "code",
   "execution_count": 1,
   "id": "dc14deb9",
   "metadata": {},
   "outputs": [],
   "source": [
    "import os, sys\n",
    "current_directory = os.getcwd()\n",
    "cwd_path = os.path.abspath(os.path.join(current_directory, '..'))\n",
    "\n",
    "os.chdir(cwd_path)"
   ]
  },
  {
   "cell_type": "code",
   "execution_count": null,
   "id": "9ea3e44f",
   "metadata": {},
   "outputs": [
    {
     "name": "stderr",
     "output_type": "stream",
     "text": [
      "2025-09-27 14:37:55,959 - INFO - driver.py:109 in setup_driver - Browser driver initialized successfully\n",
      "2025-09-27 14:37:55,960 - INFO - facebook_automation_workflow.py:142 in __init__ - Is self.browser a NoneType? False\n"
     ]
    }
   ],
   "source": [
    "from src.browser.facebook_automation_workflow import FacebookAutomationWorkflow\n",
    "\n",
    "##\n",
    "##  self <=> workflow\n",
    "##\n",
    "workflow = FacebookAutomationWorkflow()"
   ]
  },
  {
   "cell_type": "code",
   "execution_count": 3,
   "id": "bd06e3b5",
   "metadata": {},
   "outputs": [
    {
     "name": "stderr",
     "output_type": "stream",
     "text": [
      "2025-09-27 14:43:33,713 - INFO - facebook_automation_workflow.py:225 in _login - Attempting Facebook login...\n",
      "2025-09-27 14:43:33,714 - INFO - facebook.py:42 in login - Login attempt 1/3\n",
      "2025-09-27 14:44:04,080 - INFO - facebook.py:149 in _is_login_successful - Navigation bar found; login successful\n",
      "2025-09-27 14:44:05,115 - INFO - driver.py:302 in save_cookies - Cookies saved to e:\\programming\\python\\facebooksummarizer\\database\\cookies\\correodesconocidonumero293_at_gmail_dot_com.pkl\n",
      "2025-09-27 14:44:05,115 - INFO - facebook.py:105 in login - Login successful; cookies saved\n",
      "2025-09-27 14:44:05,116 - INFO - facebook_automation_workflow.py:228 in _login - Login successful!\n"
     ]
    }
   ],
   "source": [
    "if not workflow._login():\n",
    "    raise RuntimeError(\"Failed to login to Facebook\")"
   ]
  },
  {
   "cell_type": "code",
   "execution_count": 4,
   "id": "d4c61152",
   "metadata": {},
   "outputs": [
    {
     "name": "stdout",
     "output_type": "stream",
     "text": [
      "Processing page: redgol\n"
     ]
    },
    {
     "name": "stderr",
     "output_type": "stream",
     "text": [
      "2025-09-27 14:54:08,790 - INFO - 1383639967.py:17 in <module> - Navigated to https://www.facebook.com/redgol\n",
      "2025-09-27 14:54:13,191 - INFO - facebook.py:180 in select_posts - Selected 4 posts\n",
      "2025-09-27 14:54:13,192 - INFO - facebook_automation_workflow.py:333 in _load_initial_posts - Found 4 posts on attempt 1\n"
     ]
    }
   ],
   "source": [
    "from src.config.config import Config\n",
    "\n",
    "##\n",
    "##  From: _process_page\n",
    "##\n",
    "\n",
    "page_name = \"redgol\"\n",
    "print(f\"Processing page: {page_name}\")\n",
    "\n",
    "# Navigate to page\n",
    "page_url = f\"{Config.SOURCE_URL}{page_name}\"\n",
    "workflow.browser.get(page_url)\n",
    "workflow._wait_random(\n",
    "    workflow.config.min_delay_seconds,\n",
    "    workflow.config.max_delay_seconds\n",
    ")\n",
    "workflow.logger.info(f\"Navigated to {page_url}\")\n",
    "\n",
    "# Load posts\n",
    "posts = workflow._load_initial_posts()\n",
    "if not posts:\n",
    "    workflow.logger.warning(f\"No posts found on page {page_name}\")"
   ]
  },
  {
   "cell_type": "code",
   "execution_count": 5,
   "id": "cac6280c",
   "metadata": {},
   "outputs": [
    {
     "name": "stderr",
     "output_type": "stream",
     "text": [
      "2025-09-27 14:54:27,580 - INFO - facebook_automation_workflow.py:445 in _extract_post_id - Extracted post ID: pfbid0qD6C8KCJV1zZRzMTo6MpwJvwgu5Pr51H4qeZYbEro2omW8goNAT614yReG3pCCfsl\n"
     ]
    },
    {
     "name": "stdout",
     "output_type": "stream",
     "text": [
      "Extracted post ID: pfbid0qD6C8KCJV1zZRzMTo6MpwJvwgu5Pr51H4qeZYbEro2omW8goNAT614yReG3pCCfsl\n"
     ]
    }
   ],
   "source": [
    "from  src.browser.facebook_automation_workflow import PostData\n",
    "\n",
    "##\n",
    "## From: _process_single_post\n",
    "##\n",
    "\n",
    "post_element = posts[0]\n",
    "post_data = PostData(page_name=page_name)\n",
    "\n",
    "# Extract post ID\n",
    "post_data.post_id = workflow._extract_post_id(post_element)\n",
    "if not post_data.post_id:\n",
    "    print(\"Failed to extract post ID\")\n",
    "else:\n",
    "    print(f\"Extracted post ID: {post_data.post_id}\")"
   ]
  },
  {
   "cell_type": "code",
   "execution_count": 6,
   "id": "70d758ec",
   "metadata": {},
   "outputs": [
    {
     "name": "stderr",
     "output_type": "stream",
     "text": [
      "2025-09-27 14:54:32,662 - INFO - facebook_automation_workflow.py:465 in _open_post_in_new_tab - Opening post pfbid0qD6C8KCJV1zZRzMTo6MpwJvwgu5Pr51H4qeZYbEro2omW8goNAT614yReG3pCCfsl in new tab...\n",
      "2025-09-27 14:54:32,663 - INFO - facebook.py:414 in open_post_in_new_tab - Opening post URL in new tab: https://www.facebook.com/redgol/posts/pfbid0qD6C8KCJV1zZRzMTo6MpwJvwgu5Pr51H4qeZYbEro2omW8goNAT614yReG3pCCfsl\n",
      "2025-09-27 14:54:38,668 - INFO - facebook_automation_workflow.py:468 in _open_post_in_new_tab - Opened post URL: https://www.facebook.com/redgol/posts/pfbid0qD6C8KCJV1zZRzMTo6MpwJvwgu5Pr51H4qeZYbEro2omW8goNAT614yReG3pCCfsl\n"
     ]
    }
   ],
   "source": [
    "# Open post in new tab\n",
    "if not workflow._open_post_in_new_tab(page_name, post_data.post_id):\n",
    "    print(\"Failed to open post in new tab\")"
   ]
  },
  {
   "cell_type": "code",
   "execution_count": 9,
   "id": "2cd4a6e9",
   "metadata": {},
   "outputs": [
    {
     "name": "stderr",
     "output_type": "stream",
     "text": [
      "2025-09-27 14:59:24,153 - INFO - facebook_automation_workflow.py:542 in _extract_post_text - Extracted post text: ¡PAR-TI-DA-ZO! El VIDEO y DETALLES del triunfazo del Atlético ante Real Madrid en el primer comentar...\n",
      "2025-09-27 14:59:24,154 - INFO - facebook_automation_workflow.py:572 in _extract_article_url - Trying post_card extraction...\n",
      "2025-09-27 14:59:34,161 - INFO - facebook_automation_workflow.py:572 in _extract_article_url - Trying post_text extraction...\n",
      "2025-09-27 14:59:34,161 - INFO - facebook_automation_workflow.py:572 in _extract_article_url - Trying comment_section extraction...\n",
      "2025-09-27 14:59:34,209 - INFO - facebook_automation_workflow.py:575 in _extract_article_url - Found URL via comment_section: https://l.facebook.com/l.php?u=https%3A%2F%2Fredgol.cl%2Finternacional%2Fatletico-vs-real-madrid-resumen-resultado-y-goles-de-julian-alvarez-en-la-liga%3Ffbclid%3DIwZXh0bgNhZW0CMTAAYnJpZBEwMTFDSWlDbDBwQTE2UTNhcwEecGNQHUiwyGfu_3ScJLEIzOsqiV_rjGMSMIUttaVY-CiBpGCaiZdsvuyy3tw_aem_2CdUFp94ROrwEkzvPGQIOg&h=AT09Y2GlvVtTvJI_OC3E_6PjT026_Lv-012Xczl2t47BMD440RLRlnD02SVMOvb7qtkzqAilqBrXPbJjk8mLX5_kIyCBwvPWQLTRL8ARvKOAJP0w4hm3a5gcfJt0AzqasQ5owYYOP8kc-KtA&__tn__=R]-R&c[0]=AT1bZ1dMjbFHlGOboRHfqxxnCUYyFV601Xx8kYNZWBZPXEbuOxsLs9Rrcp-jf09ZzJnb-AiKRTCNvAwIs8NvFpiaEqiCZug0o4SphaLB0vERU2tGvi036Wyt9E5rj6fWZqjOFb_SlvFqA5T-BGxSzGJufGVP13BicXosiJVKcSHRK2tvrwhkfHSIBV32AAM\n"
     ]
    }
   ],
   "source": [
    "from selenium.webdriver.common.by import By\n",
    "\n",
    "##\n",
    "## From: _extract_post_content\n",
    "##\n",
    "\n",
    "post_box = workflow.browser.find_element(\n",
    "    By.CSS_SELECTOR,\n",
    "    'div[aria-labelledby][role=\"dialog\"]'\n",
    ")\n",
    "\n",
    "# Extract post text\n",
    "post_data.post_text = workflow._extract_post_text(post_box)\n",
    "\n",
    "# Extract article URL using multiple strategies\n",
    "post_data.article_url = workflow._extract_article_url(post_box, post_data.post_text)"
   ]
  },
  {
   "cell_type": "code",
   "execution_count": 10,
   "id": "44ae465b",
   "metadata": {},
   "outputs": [
    {
     "name": "stderr",
     "output_type": "stream",
     "text": [
      "2025-09-27 14:59:58,410 - INFO - facebook_automation_workflow.py:655 in _scrape_article - Scraping article: https://l.facebook.com/l.php?u=https%3A%2F%2Fredgol.cl%2Finternacional%2Fatletico-vs-real-madrid-resumen-resultado-y-goles-de-julian-alvarez-en-la-liga%3Ffbclid%3DIwZXh0bgNhZW0CMTAAYnJpZBEwMTFDSWlDbDBwQTE2UTNhcwEecGNQHUiwyGfu_3ScJLEIzOsqiV_rjGMSMIUttaVY-CiBpGCaiZdsvuyy3tw_aem_2CdUFp94ROrwEkzvPGQIOg&h=AT09Y2GlvVtTvJI_OC3E_6PjT026_Lv-012Xczl2t47BMD440RLRlnD02SVMOvb7qtkzqAilqBrXPbJjk8mLX5_kIyCBwvPWQLTRL8ARvKOAJP0w4hm3a5gcfJt0AzqasQ5owYYOP8kc-KtA&__tn__=R]-R&c[0]=AT1bZ1dMjbFHlGOboRHfqxxnCUYyFV601Xx8kYNZWBZPXEbuOxsLs9Rrcp-jf09ZzJnb-AiKRTCNvAwIs8NvFpiaEqiCZug0o4SphaLB0vERU2tGvi036Wyt9E5rj6fWZqjOFb_SlvFqA5T-BGxSzGJufGVP13BicXosiJVKcSHRK2tvrwhkfHSIBV32AAM\n",
      "2025-09-27 15:00:05,369 - INFO - facebook_automation_workflow.py:667 in _scrape_article - Scraped article text: 2755 characters\n",
      "2025-09-27 15:00:05,370 - INFO - facebook_automation_workflow.py:695 in _analyze_content - Analyzing content...\n",
      "2025-09-27 15:00:08,270 - INFO - facebook_automation_workflow.py:699 in _analyze_content - Analysis complete: El Atlético ganó 5-2 al Real Madrid con goles de Julián Álvarez y Griezmann....\n",
      "2025-09-27 15:00:08,271 - INFO - facebook_automation_workflow.py:718 in _post_comment - Posting comment...\n",
      "2025-09-27 15:00:24,664 - INFO - facebook_automation_workflow.py:741 in _post_comment - Comment posted successfully\n"
     ]
    }
   ],
   "source": [
    "# Process article if URL found\n",
    "if post_data.article_url:\n",
    "    post_data.article_text = workflow._scrape_article(post_data.article_url)\n",
    "    \n",
    "    if post_data.article_text and post_data.post_text:\n",
    "        post_data.analysis = workflow._analyze_content(\n",
    "            post_data.post_text,\n",
    "            post_data.article_text\n",
    "        )\n",
    "        \n",
    "        # Post comment if enabled and analysis successful\n",
    "        if post_data.analysis and post_data.analysis.get('output'):\n",
    "            workflow._post_comment(post_data.analysis['output'])"
   ]
  },
  {
   "cell_type": "code",
   "execution_count": 11,
   "id": "81182d69",
   "metadata": {},
   "outputs": [],
   "source": [
    "# Close post tab\n",
    "workflow.browser.close_current_tab()"
   ]
  },
  {
   "cell_type": "code",
   "execution_count": 12,
   "id": "8df4740e",
   "metadata": {},
   "outputs": [
    {
     "name": "stderr",
     "output_type": "stream",
     "text": [
      "2025-09-27 15:01:19,644 - INFO - driver.py:428 in close - Browser driver closed\n"
     ]
    }
   ],
   "source": [
    "workflow.close()\n",
    "workflow = None"
   ]
  }
 ],
 "metadata": {
  "kernelspec": {
   "display_name": ".venv (3.13.5)",
   "language": "python",
   "name": "python3"
  },
  "language_info": {
   "codemirror_mode": {
    "name": "ipython",
    "version": 3
   },
   "file_extension": ".py",
   "mimetype": "text/x-python",
   "name": "python",
   "nbconvert_exporter": "python",
   "pygments_lexer": "ipython3",
   "version": "3.13.5"
  }
 },
 "nbformat": 4,
 "nbformat_minor": 5
}
